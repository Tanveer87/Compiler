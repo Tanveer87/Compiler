{
  "nbformat": 4,
  "nbformat_minor": 0,
  "metadata": {
    "colab": {
      "name": "CSE430_Lab_Problem1(Laxical_Analyzer_NLTK).ipynb",
      "provenance": []
    },
    "kernelspec": {
      "name": "python3",
      "display_name": "Python 3"
    },
    "language_info": {
      "name": "python"
    }
  },
  "cells": [
    {
      "cell_type": "code",
      "execution_count": 1,
      "metadata": {
        "colab": {
          "base_uri": "https://localhost:8080/"
        },
        "id": "5yDyqZ68QnEz",
        "outputId": "57524564-644e-418d-d072-30e46c88f39b"
      },
      "outputs": [
        {
          "output_type": "stream",
          "name": "stdout",
          "text": [
            "Enter the given string: int a = b*c+10;\n",
            "Keyword ( 1 ) : ['int']\n",
            "\n",
            "Arithmetic Operator ( 3 ): ['=', '*', '+']\n",
            "\n",
            "Constants ( 1 ): ['10']\n",
            "\n",
            "Punctuation ( 1 ): [';']\n",
            "\n",
            "Identifier ( 3 ): ['a', 'b', 'c']\n",
            "\n",
            "Logical Operators ( 0 ): []\n",
            "\n",
            "Parenthesis ( 0 ): []\n",
            "\n"
          ]
        }
      ],
      "source": [
        "import re, nltk\n",
        "\n",
        "Identifiers, Keywords,Punctuations,Arithmetic_Operators,Logical_Operators,Constants,Parenthesis= [],[],[],[],[],[],[]\n",
        "assign_Keywords = \"auto|break|case|char|const|continue|default|do|double|else|enum|extern|float|for|goto|if|int|long|register|return|short|signd|sizeof|static|struct|switch|typedef|union|unsign|void|volatile|while|string|class|struc|include\"\n",
        "assign_Arrithmetic_Operators = \"(\\+)|(-)|(=)|(\\*)|(/)|(%)\"\n",
        "assign_Logical_Operators = \"(\\--)|(<=)|(>=)\"\n",
        "assign_Constants = \"^(\\d+)$\"\n",
        "assign_Punctuations = \"[\\[@&~!#$\\^\\|{}\\]:;<>?,\\.']|\\(\\)|\\(|\\)|{}|\\[\\]|\\\"\"\n",
        "assign_Identifiers = \"^[a-zA-Z_]+[a-zA-Z0-9_]*\"\n",
        "assign_Parenthesis =\"\\{}|\\[]|\\(\\)\"\n",
        "\n",
        "output = \"Keyboard ( %s ) : %s\\n\\nArithmetic Operator ( %s ): %s\\n\\nConstants ( %s ): %s\\n\\nPunctuation ( %s ): %s\\n\\nIdentifier ( %s ): %s\\n\\nLogical Operators ( %s ): %s\\n\\nParenthesis ( %s ): %s\\n\"\n",
        "\n",
        "def remove_Spaces(program):\n",
        "    scanned_Program = []\n",
        "    for line in program:\n",
        "        if (line.strip() != ''): scanned_Program.append(line.strip())\n",
        "    return scanned_Program\n",
        "\n",
        "def remove_Comments(program):\n",
        "    program_Multi_Comments_Removed = re.sub(\"/\\*[^*]*\\*+(?:[^/*][^*]*\\*+)*/\", \"\", program)\n",
        "    program_Single_Comments_Removed = re.sub(\"//.*\", \"\", program_Multi_Comments_Removed)\n",
        "    program_Comments_removed = program_Single_Comments_Removed\n",
        "    return program_Comments_removed\n",
        "\n",
        "def main(program):\n",
        "  prog = remove_Comments(program).split('\\n')\n",
        "  scanned_Program = '\\n'.join([str(elem) for elem in remove_Spaces(prog)])\n",
        "  scanned_Program_lines = scanned_Program.split('\\n')\n",
        "\n",
        "  Source_Code=[]\n",
        "  count = 0\n",
        "  for line in scanned_Program_lines:\n",
        "    Source_Code.append(line)\n",
        "\n",
        "  for line in Source_Code:\n",
        "      count = count + 1\n",
        "      \n",
        "      if(line.startswith(\"include\")):\n",
        "          tokens = nltk.word_tokenize(line)\n",
        "      else:\n",
        "          tokens = nltk.wordpunct_tokenize(line)\n",
        "      \n",
        "      for token in tokens:\n",
        "          if(re.findall(assign_Keywords, token)):\n",
        "              Keywords.append(token)\n",
        "          elif (re.findall(assign_Arrithmetic_Operators, token)):\n",
        "              Arithmetic_Operators.append(token)\n",
        "          elif (re.findall(assign_Constants,token)):\n",
        "              Constants.append(token)\n",
        "          elif (re.findall(assign_Punctuations, token)):\n",
        "              Punctuations.append(token)\n",
        "          elif (re.findall(assign_Identifiers, token)):\n",
        "              Identifiers.append(token)\n",
        "          elif (re.findall(assign_Logical_Operators, token)):\n",
        "            Logical_Operators.append(token)\n",
        "          elif (re.findall(assign_Parenthesis, token)):\n",
        "            Parenthesis.append(token)\n",
        "\n",
        "  output = \"Keyword ( %s ) : %s\\n\\nArithmetic Operator ( %s ): %s\\n\\nConstants ( %s ): %s\\n\\nPunctuation ( %s ): %s\\n\\nIdentifier ( %s ): %s\\n\\nLogical Operators ( %s ): %s\\n\\nParenthesis ( %s ): %s\\n\" % (len(Keywords),Keywords,len(Arithmetic_Operators),Arithmetic_Operators,len(Constants),Constants,len(Punctuations),Punctuations,len(Identifiers),Identifiers,len(Logical_Operators),Logical_Operators,len(Parenthesis),Parenthesis)\n",
        "  print(output)\n",
        "\n",
        "if __name__ == '__main__':\n",
        "  _inp = input(\"Enter the given string: \")\n",
        "  main(_inp)"
      ]
    }
  ]
}