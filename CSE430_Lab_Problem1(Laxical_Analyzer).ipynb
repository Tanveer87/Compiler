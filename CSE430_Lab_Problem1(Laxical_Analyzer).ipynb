{
  "nbformat": 4,
  "nbformat_minor": 0,
  "metadata": {
    "colab": {
      "name": "CSE430_Lab_Problem1(Laxical Analyzer).ipynb",
      "provenance": []
    },
    "kernelspec": {
      "name": "python3",
      "display_name": "Python 3"
    },
    "language_info": {
      "name": "python"
    }
  },
  "cells": [
    {
      "cell_type": "markdown",
      "source": [
        "# **Lab Problem 1(Laxical Analyzer)**"
      ],
      "metadata": {
        "id": "LZOsd2oU1BlJ"
      }
    },
    {
      "cell_type": "code",
      "source": [
        "string = input('Give input code: ')"
      ],
      "metadata": {
        "colab": {
          "base_uri": "https://localhost:8080/"
        },
        "id": "0BEArV1h1QpN",
        "outputId": "86f29f41-8605-4b51-d84c-9a175ae99fe5"
      },
      "execution_count": 8,
      "outputs": [
        {
          "name": "stdout",
          "output_type": "stream",
          "text": [
            "Give input code: int a = b * c + 10 ;\n"
          ]
        }
      ]
    },
    {
      "cell_type": "code",
      "source": [
        "str_ls = string.split()\n",
        "for i in range(len(str_ls)):\n",
        "    try:\n",
        "        str_ls[i] = float(str_ls[i])\n",
        "    except:\n",
        "        pass\n",
        "    \n",
        "str_ls"
      ],
      "metadata": {
        "colab": {
          "base_uri": "https://localhost:8080/"
        },
        "id": "O1ZCYgeh1Q-r",
        "outputId": "9d813b0b-c435-4e47-b114-750183761276"
      },
      "execution_count": 9,
      "outputs": [
        {
          "output_type": "execute_result",
          "data": {
            "text/plain": [
              "['int', 'a', '=', 'b', '*', 'c', '+', 10.0, ';']"
            ]
          },
          "metadata": {},
          "execution_count": 9
        }
      ]
    },
    {
      "cell_type": "code",
      "source": [
        "from collections import OrderedDict\n",
        "   \n",
        "str_ls = list(OrderedDict.fromkeys(str_ls))\n",
        "str_ls"
      ],
      "metadata": {
        "colab": {
          "base_uri": "https://localhost:8080/"
        },
        "id": "ubK8HuDJ1RFl",
        "outputId": "60d03d39-0300-4278-ec02-6d9ba63bfd76"
      },
      "execution_count": 10,
      "outputs": [
        {
          "output_type": "execute_result",
          "data": {
            "text/plain": [
              "['int', 'a', '=', 'b', '*', 'c', '+', 10.0, ';']"
            ]
          },
          "metadata": {},
          "execution_count": 10
        }
      ]
    },
    {
      "cell_type": "code",
      "source": [
        "data_dict = {\n",
        "    'Keywords': ['short int','unsigned short int','unsigned int','int','long int','unsigned long int','long long int','unsigned long long int','signed char','unsigned char','float','double','long double','wchar_t','if','else','for','while','switch','case','cin','cout'],\n",
        "    'Arithmetic Operator': ['+','-','/','*','='],\n",
        "    'Punctuation': [',','.',';','\\'','\\\"','@','!','#'],\n",
        "    'Parenthesis': ['[',']','{','}','(',')'],\n",
        "    'Logical Operators': ['>','<','>=','<=','==','!=']\n",
        "}"
      ],
      "metadata": {
        "id": "mVQPPK671RI8"
      },
      "execution_count": 11,
      "outputs": []
    },
    {
      "cell_type": "code",
      "source": [
        "final_dict = {}\n",
        "\n",
        "for value in str_ls:\n",
        "    if isinstance(value, float):\n",
        "        if 'Constant' in final_dict:\n",
        "            final_dict['Constant'].append(value)\n",
        "        \n",
        "        else:\n",
        "            final_dict['Constant'] = [value]\n",
        "            \n",
        "    elif value in data_dict['Keywords']:\n",
        "        if 'Keywords' in final_dict:\n",
        "            final_dict['Keywords'].append(value)\n",
        "        \n",
        "        else:\n",
        "            final_dict['Keywords'] = [value]\n",
        "            \n",
        "    elif value in data_dict['Arithmetic Operator']:\n",
        "        if 'Arithmetic Operator' in final_dict:\n",
        "            final_dict['Arithmetic Operator'].append(value)\n",
        "        \n",
        "        else:\n",
        "            final_dict['Arithmetic Operator'] = [value]\n",
        "            \n",
        "    elif value in data_dict['Punctuation']:\n",
        "        if 'Punctuation' in final_dict:\n",
        "            final_dict['Punctuation'].append(value)\n",
        "        \n",
        "        else:\n",
        "            final_dict['Punctuation'] = [value]\n",
        "            \n",
        "    elif value in data_dict['Parenthesis']:\n",
        "        if 'Parenthesis' in final_dict:\n",
        "            final_dict['Parenthesis'].append(value)\n",
        "        \n",
        "        else:\n",
        "            final_dict['Parenthesis'] = [value]\n",
        "            \n",
        "    elif value in data_dict['Logical Operators']:\n",
        "        if 'Logical Operators' in final_dict:\n",
        "            final_dict['Logical Operators'].append(value)\n",
        "        \n",
        "        else:\n",
        "            final_dict['Logical Operators'] = [value]\n",
        "            \n",
        "    else:\n",
        "        try:\n",
        "            int(value[0])\n",
        "        \n",
        "        except:\n",
        "            if 'Identifier' in final_dict:\n",
        "                final_dict['Identifier'].append(value)\n",
        "            \n",
        "            else:\n",
        "                final_dict['Identifier'] = [value]"
      ],
      "metadata": {
        "id": "B-_EzWjJ1RMN"
      },
      "execution_count": 12,
      "outputs": []
    },
    {
      "cell_type": "code",
      "source": [
        "for key, val in final_dict.items():\n",
        "    print('{} ({})'.format(key,len(val)), val)"
      ],
      "metadata": {
        "colab": {
          "base_uri": "https://localhost:8080/"
        },
        "id": "hMcHxkJk1RPM",
        "outputId": "5bf46552-8605-4094-faae-64fccb3ebb3d"
      },
      "execution_count": 13,
      "outputs": [
        {
          "output_type": "stream",
          "name": "stdout",
          "text": [
            "Keywords (1) ['int']\n",
            "Identifier (3) ['a', 'b', 'c']\n",
            "Arithmetic Operator (3) ['=', '*', '+']\n",
            "Constant (1) [10.0]\n",
            "Punctuation (1) [';']\n"
          ]
        }
      ]
    }
  ]
}