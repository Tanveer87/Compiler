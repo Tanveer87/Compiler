{
  "nbformat": 4,
  "nbformat_minor": 0,
  "metadata": {
    "colab": {
      "name": "CSE430_Lab_Problem1(Laxical Analyzer).ipynb",
      "provenance": []
    },
    "kernelspec": {
      "name": "python3",
      "display_name": "Python 3"
    },
    "language_info": {
      "name": "python"
    }
  },
  "cells": [
    {
      "cell_type": "markdown",
      "source": [
        "# **Lab Problem 1(Laxical Analyzer)**"
      ],
      "metadata": {
        "id": "LZOsd2oU1BlJ"
      }
    },
    {
      "cell_type": "code",
      "source": [
        "string = input('Input Equation: ')"
      ],
      "metadata": {
        "colab": {
          "base_uri": "https://localhost:8080/"
        },
        "id": "0BEArV1h1QpN",
        "outputId": "d3599c22-5291-438c-ac3e-fa0e2c827238"
      },
      "execution_count": null,
      "outputs": [
        {
          "name": "stdout",
          "output_type": "stream",
          "text": [
            "Input Equation: int a = b * c + 10 ;\n"
          ]
        }
      ]
    },
    {
      "cell_type": "code",
      "source": [
        "str_ls = string.split()\n",
        "for i in range(len(str_ls)):\n",
        "    try:\n",
        "        str_ls[i] = float(str_ls[i]) #converting float\n",
        "    except:\n",
        "        pass\n",
        "    \n",
        "str_ls"
      ],
      "metadata": {
        "colab": {
          "base_uri": "https://localhost:8080/"
        },
        "id": "O1ZCYgeh1Q-r",
        "outputId": "ee45e9ac-1d4e-4b1d-d70d-89a25726fff4"
      },
      "execution_count": null,
      "outputs": [
        {
          "output_type": "execute_result",
          "data": {
            "text/plain": [
              "['int', 'a', '=', 'b', '*', 'c', '+', 10.0, ';']"
            ]
          },
          "metadata": {},
          "execution_count": 64
        }
      ]
    },
    {
      "cell_type": "code",
      "source": [
        "from collections import OrderedDict              #An OrderedDict is a dictionary that remembers the order of the keys that were inserted first. If a new entry overwrites an existing entry, the original insertion position is left unchanged.\n",
        "   \n",
        "str_ls = list(OrderedDict.fromkeys(str_ls))      #Python dictionary fromkeys() function returns the dictionary with key mapped and specific value. It creates a new dictionary from the given sequence with the specific value.\n",
        "str_ls"
      ],
      "metadata": {
        "colab": {
          "base_uri": "https://localhost:8080/"
        },
        "id": "ubK8HuDJ1RFl",
        "outputId": "f5ad42f1-1f22-4dd6-e5c9-7ea33b771546"
      },
      "execution_count": null,
      "outputs": [
        {
          "output_type": "execute_result",
          "data": {
            "text/plain": [
              "['int', 'a', '=', 'b', '*', 'c', '+', 10.0, ';']"
            ]
          },
          "metadata": {},
          "execution_count": 65
        }
      ]
    },
    {
      "cell_type": "code",
      "source": [
        "data_dict = {\n",
        "    'Keywords': ['short int','unsigned short int','unsigned int','int','long int','unsigned long int','long long int','unsigned long long int','signed char','unsigned char','float','double','long double','wchar_t','if','else','for','while','switch','case','cin','cout'],\n",
        "    'Arithmetic Operator': ['+','-','/','*','='],\n",
        "    'Punctuation': [',','.',';','\\'','\\\"','@','!','#'],\n",
        "    'Parenthesis': ['[',']','{','}','(',')'],\n",
        "    'Logical Operators': ['>','<','>=','<=','==','!=']\n",
        "}"
      ],
      "metadata": {
        "id": "mVQPPK671RI8"
      },
      "execution_count": null,
      "outputs": []
    },
    {
      "cell_type": "code",
      "source": [
        "final_dict = {}\n",
        "\n",
        "for value in str_ls:\n",
        "    if isinstance(value, float): #The isinstance() function returns True if the specified object is of the specified type, otherwise False \n",
        "        if 'Constant' in final_dict:\n",
        "            final_dict['Constant'].append(value)\n",
        "        \n",
        "        else:\n",
        "            final_dict['Constant'] = [value]\n",
        "            \n",
        "    elif value in data_dict['Keywords']:\n",
        "        if 'Keywords' in final_dict:\n",
        "            final_dict['Keywords'].append(value)\n",
        "        \n",
        "        else:\n",
        "            final_dict['Keywords'] = [value]\n",
        "            \n",
        "    elif value in data_dict['Arithmetic Operator']:\n",
        "        if 'Arithmetic Operator' in final_dict:\n",
        "            final_dict['Arithmetic Operator'].append(value)\n",
        "        \n",
        "        else:\n",
        "            final_dict['Arithmetic Operator'] = [value]\n",
        "            \n",
        "    elif value in data_dict['Punctuation']:\n",
        "        if 'Punctuation' in final_dict:\n",
        "            final_dict['Punctuation'].append(value)\n",
        "        \n",
        "        else:\n",
        "            final_dict['Punctuation'] = [value]\n",
        "            \n",
        "    elif value in data_dict['Parenthesis']:\n",
        "        if 'Parenthesis' in final_dict:\n",
        "            final_dict['Parenthesis'].append(value)\n",
        "        \n",
        "        else:\n",
        "            final_dict['Parenthesis'] = [value]\n",
        "            \n",
        "    elif value in data_dict['Logical Operators']:\n",
        "        if 'Logical Operators' in final_dict:\n",
        "            final_dict['Logical Operators'].append(value)\n",
        "        \n",
        "        else:\n",
        "            final_dict['Logical Operators'] = [value]\n",
        "            \n",
        "    else:\n",
        "        try:\n",
        "            int(value[0]) \n",
        "        \n",
        "        except:\n",
        "            if 'Identifier' in final_dict:\n",
        "                final_dict['Identifier'].append(value)\n",
        "            \n",
        "            else:\n",
        "                final_dict['Identifier'] = [value]"
      ],
      "metadata": {
        "id": "B-_EzWjJ1RMN"
      },
      "execution_count": null,
      "outputs": []
    },
    {
      "cell_type": "code",
      "source": [
        "for key, val in final_dict.items():\n",
        "    print('{} ({})'.format(key,len(val)), val)"
      ],
      "metadata": {
        "colab": {
          "base_uri": "https://localhost:8080/"
        },
        "id": "hMcHxkJk1RPM",
        "outputId": "c22f4c1a-715d-4c03-ad26-72796240af6d"
      },
      "execution_count": null,
      "outputs": [
        {
          "output_type": "stream",
          "name": "stdout",
          "text": [
            "Keywords (1) ['int']\n",
            "Identifier (3) ['a', 'b', 'c']\n",
            "Arithmetic Operator (3) ['=', '*', '+']\n",
            "Constant (1) [10.0]\n",
            "Punctuation (1) [';']\n"
          ]
        }
      ]
    },
    {
      "cell_type": "markdown",
      "source": [
        "# **Some Extreme Case Solution (Error Handling)**\n",
        "1.   CaseSensitiveness \n",
        "2.   WithoutSpace\n",
        "3.   `1var`=error, `var1`=accept\n",
        "\n",
        "\n",
        "    Cotation or comment\n",
        "*   a = \"This is code\" - Which is called literal print\n",
        "*   //comment - Which we try to skip\n",
        "\n",
        "\n",
        "\n",
        "\n",
        "\n",
        "\n",
        "\n",
        "\n",
        "\n"
      ],
      "metadata": {
        "id": "mHL542mbk_tV"
      }
    },
    {
      "cell_type": "code",
      "source": [
        "def len_chk(txt,splt):\n",
        "    org_len = len([txt])\n",
        "    nw_len = len(txt.split(splt))\n",
        "\n",
        "    if org_len==nw_len:\n",
        "        return False\n",
        "    \n",
        "    else:\n",
        "        return True"
      ],
      "metadata": {
        "id": "rZ80ZFEFx1nM"
      },
      "execution_count": null,
      "outputs": []
    },
    {
      "cell_type": "code",
      "source": [
        "def main():\n",
        "    string = input('Input Equation: ')\n",
        "    \n",
        "    c = '\"'\n",
        "    ls = [pos for pos, char in enumerate(string) if char == c]                   #takes the given input as a collection or tuples and returns it as an enumerate object\n",
        "\n",
        "    print('Literals:')\n",
        "\n",
        "    while ls:\n",
        "        ls = [pos for pos, char in enumerate(string) if char == c]\n",
        "        strt, end = ls.pop(0), ls.pop(0)\n",
        "        print('    ',string[strt:end+1])\n",
        "        string=string.replace(string[strt:end+1],'')\n",
        "\n",
        "    pos = string.find('\\\\')\n",
        "    string = string.replace(string[pos:],'').strip()\n",
        "    \n",
        "    str_ls = string.split()\n",
        "    text = str_ls.pop()\n",
        "\n",
        "    if len_chk(text,'='):\n",
        "        str_ls.append('=')\n",
        "        pre = text.split('=')[0]\n",
        "        \n",
        "        try:\n",
        "            float(pre[0])\n",
        "        \n",
        "        except:\n",
        "            str_ls.append(pre)\n",
        "            \n",
        "        text=text.replace(pre,'')\n",
        "        text=text.replace('=','')\n",
        "\n",
        "    if len_chk(text,'*'):\n",
        "        pre = text.split('*')[0]\n",
        "        str_ls.append('*')\n",
        "        str_ls.append(pre)\n",
        "        text=text.replace(pre,'')\n",
        "        text=text.replace('*','')\n",
        "    \n",
        "    if len_chk(text,'-'):\n",
        "        pre = text.split('-')[0]\n",
        "        str_ls.append('-')\n",
        "        str_ls.append(pre)\n",
        "        text=text.replace(pre,'')\n",
        "        text=text.replace('-','')\n",
        "\n",
        "    if len_chk(text,'+'):\n",
        "        pre = text.split('+')[0]\n",
        "        str_ls.append('+')\n",
        "        str_ls.append(pre)\n",
        "        text=text.replace(pre,'')\n",
        "        text=text.replace('+','')\n",
        "\n",
        "    if len_chk(text,';'):\n",
        "        pre = text.split(';')[0]\n",
        "        str_ls.append(';')\n",
        "        str_ls.append(pre)\n",
        "        text=text.replace(pre,'')\n",
        "        text=text.replace(';','')      \n",
        "\n",
        "    for i in range(len(str_ls)):\n",
        "        try:\n",
        "            str_ls[i] = float(str_ls[i])\n",
        "        \n",
        "        except:\n",
        "            pass\n",
        "\n",
        "    final_dict = {}\n",
        "\n",
        "    for value in str_ls:\n",
        "        if isinstance(value, float):\n",
        "            if 'Constant' in final_dict:\n",
        "                final_dict['Constant'].append(value)\n",
        "\n",
        "            else:\n",
        "                final_dict['Constant'] = [value]\n",
        "\n",
        "        elif value in data_dict['Keywords']:\n",
        "            if 'Keywords' in final_dict:\n",
        "                final_dict['Keywords'].append(value)\n",
        "            \n",
        "            else:\n",
        "                final_dict['Keywords'] = [value]\n",
        "\n",
        "        elif value in data_dict['Arithmetic Operator']:\n",
        "            if 'Arithmetic Operator' in final_dict:\n",
        "                final_dict['Arithmetic Operator'].append(value)\n",
        "            \n",
        "            else:\n",
        "                final_dict['Arithmetic Operator'] = [value]\n",
        "\n",
        "        elif value in data_dict['Punctuation']:\n",
        "            if 'Punctuation' in final_dict:\n",
        "                final_dict['Punctuation'].append(value)\n",
        "            \n",
        "            else:\n",
        "                final_dict['Punctuation'] = [value]\n",
        "\n",
        "        else:\n",
        "            if 'Identifier' in final_dict:\n",
        "                final_dict['Identifier'].append(value)\n",
        "            \n",
        "            else:\n",
        "                final_dict['Identifier'] = [value]\n",
        "    \n",
        "    for key, val in final_dict.items():\n",
        "        print('{} ({})'.format(key,len(val)), val)"
      ],
      "metadata": {
        "id": "bQ7Bautwx4Ci"
      },
      "execution_count": null,
      "outputs": []
    },
    {
      "cell_type": "code",
      "source": [
        "main()"
      ],
      "metadata": {
        "id": "WY6zpL-cnGYZ"
      },
      "execution_count": null,
      "outputs": []
    }
  ]
}